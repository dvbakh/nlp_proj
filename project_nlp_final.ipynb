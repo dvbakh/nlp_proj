{
 "cells": [
  {
   "cell_type": "markdown",
   "id": "a750e785",
   "metadata": {},
   "source": [
    "# Проект по Автобрее \"Корпус текстов Братьев Стругацких\"\n",
    "## Часть 1 Создание корпуса"
   ]
  },
  {
   "cell_type": "markdown",
   "id": "22ef9c03",
   "metadata": {},
   "source": [
    "#### Выполнен студентом группы БКЛ211 Бахваловым Дмитрием"
   ]
  },
  {
   "cell_type": "markdown",
   "id": "c57ae41c",
   "metadata": {},
   "source": [
    "### Ход работы\n",
    "\n",
    "Сначала подготовлю корпус текстов для проекта. Идея состоит в том, чтобы сделать корпус текстов Аркадия и Бориса Стругацких, но так как есть ограничение в 10000 слов и необходимо не менее 100 текстов, то мы пробежимся по их произведениям и из каждого возьмем немного текста из начала произведения. Делали это мы с помощью краулера, а обкачивали сайт strugacki.ru. Ниже идет код краулера и создание с его помощью базы данных. "
   ]
  },
  {
   "cell_type": "code",
   "execution_count": 6,
   "id": "c9a001c4",
   "metadata": {},
   "outputs": [
    {
     "name": "stdout",
     "output_type": "stream",
     "text": [
      "Requirement already satisfied: fake-useragent in c:\\users\\dimba\\appdata\\local\\programs\\python\\python311\\lib\\site-packages (1.2.1)\n"
     ]
    }
   ],
   "source": [
    "!pip install fake-useragent"
   ]
  },
  {
   "cell_type": "code",
   "execution_count": 18,
   "id": "56395e50",
   "metadata": {},
   "outputs": [
    {
     "data": {
      "text/plain": [
       "60"
      ]
     },
     "execution_count": 18,
     "metadata": {},
     "output_type": "execute_result"
    }
   ],
   "source": [
    "from fake_useragent import UserAgent\n",
    "ua = UserAgent(verify_ssl=False)\n",
    "import sqlite3\n",
    "from bs4 import BeautifulSoup\n",
    "import re\n",
    "import requests\n",
    "\n",
    "session = requests.session()\n",
    "page_number=1\n",
    "url = f'https://strugacki.ru/book_1/{page_number}.html'\n",
    "req = session.get(url, headers={'User-Agent': ua.random})\n",
    "page = req.text\n",
    "soup = BeautifulSoup(page, 'html.parser')\n",
    "book_pages = soup.find('div', {'class': 'cont'}).find('p', {'class': 'text'}).find_all('a')\n",
    "next_book_page=len(book_pages)+2\n",
    "next_book_page"
   ]
  },
  {
   "cell_type": "code",
   "execution_count": 90,
   "id": "bfa3f7ae",
   "metadata": {},
   "outputs": [],
   "source": [
    "#Эта функция позволяет узнать, на какой странице начинается новая книга, т.к. нумерация страниц сплошная\n",
    "def new_book_page(page_number, counter):\n",
    "    url = f'https://strugacki.ru/book_{counter}/{page_number}.html'\n",
    "    req = session.get(url, headers={'User-Agent': ua.random})\n",
    "    page = req.text\n",
    "    soup = BeautifulSoup(page, 'html.parser')\n",
    "    book_pages = soup.find('div', {'class': 'cont'}).find('p', {'class': 'text'}).find_all('a')\n",
    "    next_book_page=len(book_pages)+int(page_number)+1\n",
    "    old_book_title = soup.find('div', {'class': 'cont'}).find('h1').text.split('>')[1].strip()\n",
    "    return next_book_page, old_book_title"
   ]
  },
  {
   "cell_type": "code",
   "execution_count": 111,
   "id": "f6ac621f",
   "metadata": {
    "scrolled": true
   },
   "outputs": [
    {
     "data": {
      "text/plain": [
       "{1: 'Трудно быть богом',\n",
       " 60: 'Пикник на обочине',\n",
       " 98: 'Парень из преисподней',\n",
       " 122: 'За миллиард лет до конца света',\n",
       " 154: 'Беспокойство (Улитка на склоне-1)',\n",
       " 180: 'Путь на Амальтею',\n",
       " 200: 'Малыш',\n",
       " 238: 'Дело об убийстве, или отель \"У погибшего альпиниста\"',\n",
       " 286: 'Хищные вещи века',\n",
       " 331: 'Стажеры',\n",
       " 390: 'Полдень, XXII век (Возвращение)',\n",
       " 455: 'Далекая Радуга'}"
      ]
     },
     "execution_count": 111,
     "metadata": {},
     "output_type": "execute_result"
    }
   ],
   "source": [
    "di={}\n",
    "di[1]='-'\n",
    "ar=['1']\n",
    "for i in ar:\n",
    "    try:\n",
    "        di.update({new_book_page(i, len(di))[0]:new_book_page(i, len(di))[1]})\n",
    "        ar.append(new_book_page(i, len(di))[0])\n",
    "    except:\n",
    "        Exception\n",
    "#Изначально мне нужно было знать не только где начинается, но и где заканчивается текст произведения. \n",
    "#В конечном словаре это лишнее, поэтому сдвигаю значения и убираю последний ключ.\n",
    "keys=list(di.keys())\n",
    "val=list(di.values())\n",
    "di=dict(zip(keys, val[1:len(val)+1]))"
   ]
  },
  {
   "cell_type": "markdown",
   "id": "6f3c9f8f",
   "metadata": {},
   "source": [
    "Процесс пошел, но только до страницы 487 (это я узнал из прошлой ячейки до сдвига значений словаря). Я посмотрел сайт, в чем же проблема, и там дальше нет страниц до 544. Вероятно, была какая-то книга, которую в итоге удалили. Ладно, берем теперь за точку отсчета 544 и едем дальше."
   ]
  },
  {
   "cell_type": "code",
   "execution_count": 118,
   "id": "46a370c8",
   "metadata": {
    "scrolled": true
   },
   "outputs": [
    {
     "data": {
      "text/plain": [
       "{1: 'Трудно быть богом',\n",
       " 60: 'Пикник на обочине',\n",
       " 98: 'Парень из преисподней',\n",
       " 122: 'За миллиард лет до конца света',\n",
       " 154: 'Беспокойство (Улитка на склоне-1)',\n",
       " 180: 'Путь на Амальтею',\n",
       " 200: 'Малыш',\n",
       " 238: 'Дело об убийстве, или отель \"У погибшего альпиниста\"',\n",
       " 286: 'Хищные вещи века',\n",
       " 331: 'Стажеры',\n",
       " 390: 'Полдень, XXII век (Возвращение)',\n",
       " 455: 'Далекая Радуга',\n",
       " 544: 'Дьявол среди людей',\n",
       " 577: 'Дни затмения',\n",
       " 593: 'Обитаемый остров',\n",
       " 673: 'Попытка к бегству',\n",
       " 703: 'Жук в муравейнике',\n",
       " 758: 'Улитка на склоне',\n",
       " 807: 'Подробности жизни Никиты Воронцова',\n",
       " 817: 'Экспедиция в преисподнюю',\n",
       " 879: 'Второе нашествие марсиан',\n",
       " 903: 'Гадкие  лебеди',\n",
       " 954: 'Волны гасят ветер',\n",
       " 1003: 'Град  обреченный',\n",
       " 1099: 'Понедельник начинается в субботу',\n",
       " 1155: 'Сказка о тройке',\n",
       " 1200: 'Отягощенные злом, или сорок лет спустя',\n",
       " 1252: 'Страна багровых туч',\n",
       " 1328: 'Без оружия',\n",
       " 1349: 'Благоустроенная планета',\n",
       " 1356: 'Хромая судьба',\n",
       " 1438: 'Четвертое царство (На грани возможного)',\n",
       " 1453: 'Дни Кракена',\n",
       " 1472: 'Извне',\n",
       " 1486: 'Бессильные мира сего',\n",
       " 1551: 'Повесть о дружбе и недружбе',\n",
       " 1563: 'Жиды города Питера, или невеселые беседы при свечах',\n",
       " 1574: 'Дело об убийстве (Отель \"У погибшего альпиниста\")',\n",
       " 1588: 'День затмения',\n",
       " 1603: 'Машина желаний',\n",
       " 1614: 'Пять ложек эликсира',\n",
       " 1630: 'Сталкер',\n",
       " 1640: 'Туча',\n",
       " 1652: 'Чародеи',\n",
       " 1665: 'Бедные злые люди',\n",
       " 1666: 'Белый конус Алаида',\n",
       " 1671: 'В наше интересное время',\n",
       " 1672: 'Забытый эксперимент',\n",
       " 1677: 'Испытание \"СКИБР\"',\n",
       " 1682: 'Моби Дик',\n",
       " 1686: 'Ночь на Марсе',\n",
       " 1689: 'О странствующих и путешествующих',\n",
       " 1691: 'Первые люди на первом плоту',\n",
       " 1693: 'Песчаная горячка',\n",
       " 1695: 'Спонтанный рефлекс',\n",
       " 1699: 'Человек из Пасифиды',\n",
       " 1704: 'Чрезвычайное происшествие',\n",
       " 1707: 'Частные предположения',\n",
       " 1713: 'Шесть спичек'}"
      ]
     },
     "execution_count": 118,
     "metadata": {},
     "output_type": "execute_result"
    }
   ],
   "source": [
    "di_1={}\n",
    "di_1[544]='-'\n",
    "ar_1=[544]\n",
    "for i in ar_1:\n",
    "    try:\n",
    "        di_1.update({new_book_page(i, len(di_1)+12)[0]:new_book_page(i, len(di_1)+12)[1]})\n",
    "        ar_1.append(new_book_page(i, len(di_1)+12)[0])\n",
    "    except:\n",
    "        Exception\n",
    "keys_1=list(di_1.keys())\n",
    "val_1=list(di_1.values())\n",
    "di_1=dict(zip(keys_1, val_1[1:len(val_1)+1]))\n",
    "#Склеим теперь словари в один\n",
    "di.update(di_1)"
   ]
  },
  {
   "cell_type": "markdown",
   "id": "65238873",
   "metadata": {},
   "source": [
    "Выкачались все произведенния с этого сайта. К сожалению, получилось их меньше 100, всего примерно 70 штук. В таком случае, возьмем из них чуть больше, чем по 100 слов из каждого."
   ]
  },
  {
   "cell_type": "code",
   "execution_count": 124,
   "id": "7649525c",
   "metadata": {},
   "outputs": [
    {
     "data": {
      "text/plain": [
       "41"
      ]
     },
     "execution_count": 124,
     "metadata": {},
     "output_type": "execute_result"
    }
   ],
   "source": [
    "for i in di.keys():\n",
    "    url = f'https://strugacki.ru/book_1/{i}.html'\n",
    "    req = session.get(url, headers={'User-Agent': ua.random})\n",
    "    page = req.text\n",
    "    soup = BeautifulSoup(page, 'html.parser')\n",
    "    full = soup.find('div', {'class': 'cont'}).find('p', {'align':'justify'}).text\n",
    "    "
   ]
  },
  {
   "cell_type": "markdown",
   "id": "f35341a7",
   "metadata": {},
   "source": [
    "А теперь загрузим все в базу данных, параллельно добавляя тексты первых страниц."
   ]
  },
  {
   "cell_type": "code",
   "execution_count": 150,
   "id": "ef842c67",
   "metadata": {},
   "outputs": [],
   "source": [
    "import sqlite3\n",
    "import unicodedata\n",
    "\n",
    "conn = sqlite3.connect('my_corpus.db')\n",
    "cur = conn.cursor()\n",
    "\n",
    "cur.execute(\"\"\"\n",
    "CREATE TABLE IF NOT EXISTS db_corp \n",
    "(id INTEGER PRIMARY KEY AUTOINCREMENT, page_number int, title text, full_text text)\n",
    "\"\"\")\n",
    "conn.commit()\n",
    "\n",
    "for i in di.keys():\n",
    "    url = f'https://strugacki.ru/book_1/{i}.html'\n",
    "    req = session.get(url, headers={'User-Agent': ua.random})\n",
    "    page = req.text\n",
    "    soup = BeautifulSoup(page, 'html.parser')\n",
    "    full = soup.find('div', {'class': 'cont'}).find_all('p', {'class':'text', 'align':'justify'})\n",
    "    for p in full:\n",
    "        d = unicodedata.normalize('NFKD', p.text).strip()\n",
    "    if d != '':\n",
    "        cur.execute(\n",
    "            \"\"\"\n",
    "            INSERT INTO db_corp \n",
    "                (page_number, title, full_text)\n",
    "                VALUES (?, ?, ?)\n",
    "            \"\"\", (\n",
    "                i,\n",
    "                di[i],\n",
    "                d)\n",
    "        )\n",
    "\n",
    "conn.commit()\n",
    "conn.close()"
   ]
  },
  {
   "cell_type": "markdown",
   "id": "7c373992",
   "metadata": {},
   "source": [
    "Отлично, база данных готова. Наверное, для удобства было бы отлично сделать еще одну таблицу с предложениями из каждого текста.\n",
    "Наверное, для оптимизации будет хорошо, если эти предложения еще сразу разметить. "
   ]
  },
  {
   "cell_type": "code",
   "execution_count": 74,
   "id": "f3070c9f",
   "metadata": {},
   "outputs": [
    {
     "name": "stderr",
     "output_type": "stream",
     "text": [
      "2023-10-23 15:11:39 INFO: Checking for updates to resources.json in case models have been updated.  Note: this behavior can be turned off with download_method=None or download_method=DownloadMethod.REUSE_RESOURCES\n"
     ]
    },
    {
     "data": {
      "application/vnd.jupyter.widget-view+json": {
       "model_id": "5eef83fcf78b4200bdb41faaaa1bb267",
       "version_major": 2,
       "version_minor": 0
      },
      "text/plain": [
       "Downloading https://raw.githubusercontent.com/stanfordnlp/stanza-resources/main/resources_1.6.0.json:   0%|   …"
      ]
     },
     "metadata": {},
     "output_type": "display_data"
    },
    {
     "name": "stderr",
     "output_type": "stream",
     "text": [
      "2023-10-23 15:11:40 INFO: Loading these models for language: ru (Russian):\n",
      "==================================\n",
      "| Processor | Package            |\n",
      "----------------------------------\n",
      "| tokenize  | syntagrus          |\n",
      "| pos       | syntagrus_charlm   |\n",
      "| lemma     | syntagrus_nocharlm |\n",
      "==================================\n",
      "\n",
      "2023-10-23 15:11:40 INFO: Using device: cpu\n",
      "2023-10-23 15:11:40 INFO: Loading: tokenize\n",
      "2023-10-23 15:11:40 INFO: Loading: pos\n",
      "2023-10-23 15:11:41 INFO: Loading: lemma\n",
      "2023-10-23 15:11:41 INFO: Done loading processors!\n"
     ]
    }
   ],
   "source": [
    "import sqlite3\n",
    "import unicodedata\n",
    "import stanza\n",
    "\n",
    "stz = stanza.Pipeline(lang='ru', processors='tokenize,pos,lemma')"
   ]
  },
  {
   "cell_type": "code",
   "execution_count": 75,
   "id": "7ca6cae7",
   "metadata": {},
   "outputs": [],
   "source": [
    "conn = sqlite3.connect('my_corpus (2).db')\n",
    "cur = conn.cursor()\n",
    "\n",
    "\n",
    "cur.execute(\"\"\"\n",
    "CREATE TABLE IF NOT EXISTS db_meta\n",
    "(page_number INT, sentence TEXT, words TEXT)\n",
    "\"\"\")\n",
    "conn.commit()\n",
    "\n",
    "\n",
    "data = \"\"\"SELECT page_number, full_text FROM db_corp\"\"\"\n",
    "cur.execute(data)\n",
    "records = cur.fetchall()\n",
    "for i in records:\n",
    "    doc=stz(i[1])\n",
    "    for a, snt in enumerate(doc.sentences):\n",
    "        #думаю, для проекта по 25  предложений из каждой книги будет достаточно, так что на этом этапе отсеку все остальное\n",
    "        if a<25:\n",
    "            f=''\n",
    "            for word in snt.words:\n",
    "                meta='='.join([word.text, word.upos, word.lemma]) + ' '\n",
    "                f+=meta\n",
    "            cur.execute(\n",
    "                \"\"\"\n",
    "                INSERT INTO db_meta\n",
    "                    (page_number, sentence, words)\n",
    "                    VALUES (?, ?, ?)\n",
    "                \"\"\", (\n",
    "                        i[0],\n",
    "                        snt.text,\n",
    "                        f)\n",
    "            )\n",
    "            conn.commit()\n",
    "conn.commit()\n",
    "conn.close()"
   ]
  },
  {
   "cell_type": "markdown",
   "id": "9974b6e3",
   "metadata": {},
   "source": [
    "## Часть 2. Создание функций поиска"
   ]
  },
  {
   "cell_type": "code",
   "execution_count": 2,
   "id": "b9367eaa",
   "metadata": {},
   "outputs": [
    {
     "name": "stderr",
     "output_type": "stream",
     "text": [
      "2023-10-27 11:56:53 INFO: Checking for updates to resources.json in case models have been updated.  Note: this behavior can be turned off with download_method=None or download_method=DownloadMethod.REUSE_RESOURCES\n"
     ]
    },
    {
     "data": {
      "application/vnd.jupyter.widget-view+json": {
       "model_id": "790c0b538fe845748c5c5c0f08505765",
       "version_major": 2,
       "version_minor": 0
      },
      "text/plain": [
       "Downloading https://raw.githubusercontent.com/stanfordnlp/stanza-resources/main/resources_1.6.0.json:   0%|   …"
      ]
     },
     "metadata": {},
     "output_type": "display_data"
    },
    {
     "name": "stderr",
     "output_type": "stream",
     "text": [
      "2023-10-27 11:56:57 INFO: Loading these models for language: ru (Russian):\n",
      "==================================\n",
      "| Processor | Package            |\n",
      "----------------------------------\n",
      "| tokenize  | syntagrus          |\n",
      "| pos       | syntagrus_charlm   |\n",
      "| lemma     | syntagrus_nocharlm |\n",
      "==================================\n",
      "\n",
      "2023-10-27 11:56:57 INFO: Using device: cpu\n",
      "2023-10-27 11:56:57 INFO: Loading: tokenize\n",
      "2023-10-27 11:56:57 INFO: Loading: pos\n",
      "2023-10-27 11:57:00 INFO: Loading: lemma\n",
      "2023-10-27 11:57:00 INFO: Done loading processors!\n"
     ]
    }
   ],
   "source": [
    "import sqlite3\n",
    "import unicodedata\n",
    "import stanza\n",
    "\n",
    "stz = stanza.Pipeline(lang='ru', processors='tokenize,pos,lemma')"
   ]
  },
  {
   "cell_type": "markdown",
   "id": "1b2e6cc6",
   "metadata": {},
   "source": [
    "Близясь к концу кода я понял, что удобнее и быстрее всего выполнить поиск только один раз - по первому слову в инпуте. Дальше можно запомнить два слова, которые после, и остальные фукнции проверять уже на них. Из-за этого данный блок я перекраивал несколько раз, так что комментарии немного перепутались, но я постарался восстановить все как было"
   ]
  },
  {
   "cell_type": "code",
   "execution_count": 3,
   "id": "b33a0648",
   "metadata": {},
   "outputs": [],
   "source": [
    "def exact_word(some_word):\n",
    "    conn = sqlite3.connect('my_corpus (2).db')\n",
    "    cur = conn.cursor()\n",
    "    data = \"\"\"\n",
    "    SELECT db_meta.page_number, sentence, words, title FROM db_meta\n",
    "    JOIN db_corp ON db_meta.page_number = db_corp.page_number\n",
    "    \"\"\"\n",
    "    seen=[]\n",
    "    cur.execute(data)\n",
    "    textts=cur.fetchall()\n",
    "    for row in textts:\n",
    "        lst_rows=row[2].split()\n",
    "        for n_l in range(len(lst_rows)):\n",
    "            wrd=lst_rows[n_l].split('=')\n",
    "            if wrd[0] == some_word[1:-1]:\n",
    "                if n_l+2 < len(lst_rows):\n",
    "                    seen.append([row[1], row[3], lst_rows[n_l+1], lst_rows[n_l+2]])\n",
    "                elif n_l+1 < len(lst_rows):\n",
    "                    seen.append([row[1], row[3], lst_rows[n_l+1], 'null'])\n",
    "                else:\n",
    "                    seen.append([row[1], row[3], 'null', 'null'])\n",
    "    conn.close()\n",
    "    return(seen)"
   ]
  },
  {
   "cell_type": "code",
   "execution_count": 4,
   "id": "928d648e",
   "metadata": {},
   "outputs": [],
   "source": [
    "def lemma_word(some_word):\n",
    "    conn = sqlite3.connect('my_corpus (2).db')\n",
    "    cur = conn.cursor()\n",
    "    data = \"\"\"\n",
    "    SELECT db_meta.page_number, sentence, words, title FROM db_meta\n",
    "    JOIN db_corp ON db_meta.page_number = db_corp.page_number\n",
    "    \"\"\"\n",
    "    seen=[]\n",
    "    cur.execute(data)\n",
    "    textts=cur.fetchall()\n",
    "    doc=stz(some_word)\n",
    "    for sent in doc.sentences:\n",
    "        for word in sent.words:\n",
    "            some_word_lem=word.lemma\n",
    "    for row in textts:\n",
    "        k=0\n",
    "        lst_rows=row[2].split()\n",
    "        for n_l in range(len(lst_rows)):\n",
    "            k+=1\n",
    "            wrd=lst_rows[n_l].split('=')\n",
    "            if wrd[2] == some_word_lem:\n",
    "                if n_l+2 < len(lst_rows):\n",
    "                    seen.append([row[1], row[3], lst_rows[n_l+1], lst_rows[n_l+2]])\n",
    "                elif n_l+1 < len(lst_rows):\n",
    "                    seen.append([row[1], row[3], lst_rows[n_l+1], 'null'])\n",
    "                else:\n",
    "                    seen.append([row[1], row[3], 'null', 'null'])\n",
    "    conn.close()\n",
    "    return(seen)\n",
    "\n"
   ]
  },
  {
   "cell_type": "code",
   "execution_count": 5,
   "id": "c5131e7a",
   "metadata": {},
   "outputs": [],
   "source": [
    "def word_and_pos(some_word):\n",
    "    some_word=some_word.split('+')\n",
    "    conn = sqlite3.connect('my_corpus (2).db')\n",
    "    cur = conn.cursor()\n",
    "    data = \"\"\"\n",
    "    SELECT db_meta.page_number, sentence, words, title FROM db_meta\n",
    "    JOIN db_corp ON db_meta.page_number = db_corp.page_number\n",
    "    \"\"\"\n",
    "    seen=[]\n",
    "    cur.execute(data)\n",
    "    textts=cur.fetchall()\n",
    "    for row in textts:\n",
    "        lst_rows=row[2].split()\n",
    "        for n_l in range(len(lst_rows)):\n",
    "            wrd=lst_rows[n_l].split('=')\n",
    "            if wrd[0] == some_word[0] and wrd[1] == some_word[1]:\n",
    "                if n_l+2 < len(lst_rows):\n",
    "                    seen.append([row[1], row[3], lst_rows[n_l+1], lst_rows[n_l+2]])\n",
    "                elif n_l+1 < len(lst_rows):\n",
    "                    seen.append([row[1], row[3], lst_rows[n_l+1], 'null'])\n",
    "                else:\n",
    "                    seen.append([row[1], row[3], 'null', 'null'])\n",
    "    conn.close()\n",
    "    return(seen)"
   ]
  },
  {
   "cell_type": "markdown",
   "id": "aabac7cc",
   "metadata": {},
   "source": [
    "Вид запроса слово+POS у нас ищет слова именно в этой форме.  "
   ]
  },
  {
   "cell_type": "code",
   "execution_count": 6,
   "id": "db186287",
   "metadata": {},
   "outputs": [],
   "source": [
    "def pos_word(pos):\n",
    "    conn = sqlite3.connect('my_corpus (2).db')\n",
    "    cur = conn.cursor()\n",
    "    data = \"\"\"\n",
    "    SELECT db_meta.page_number, sentence, words, title FROM db_meta\n",
    "    JOIN db_corp ON db_meta.page_number = db_corp.page_number\n",
    "    \"\"\"\n",
    "    seen=[]\n",
    "    cur.execute(data)\n",
    "    textts=cur.fetchall()\n",
    "    for row in textts:\n",
    "        lst_rows=row[2].split()\n",
    "        for n_l in range(len(lst_rows)):\n",
    "            wrd=lst_rows[n_l].split('=')\n",
    "            if wrd[1] == pos:\n",
    "                if n_l+2 < len(lst_rows):\n",
    "                    seen.append([row[1], row[3], lst_rows[n_l+1], lst_rows[n_l+2]])\n",
    "                elif n_l+1 < len(lst_rows):\n",
    "                    seen.append([row[1], row[3], lst_rows[n_l+1], 'null'])\n",
    "                else:\n",
    "                    seen.append([row[1], row[3], 'null', 'null'])\n",
    "    conn.close()\n",
    "    return(seen)"
   ]
  },
  {
   "cell_type": "markdown",
   "id": "d1aac757",
   "metadata": {},
   "source": [
    "Вот функция для записи одного слова:"
   ]
  },
  {
   "cell_type": "code",
   "execution_count": 7,
   "id": "bb0dba02",
   "metadata": {},
   "outputs": [],
   "source": [
    "#на вход str\n",
    "def for_one_word(word_s):\n",
    "    frst_wrd=[]\n",
    "    if word_s[0]=='\"':\n",
    "        for i in exact_word(word_s):\n",
    "            frst_wrd.append([i[0], i[1], i[2], i[3]])\n",
    "    elif word_s[0] in 'QWERTYUIOPASDFGHJKLZXCVBNM':\n",
    "        for i in pos_word(word_s):\n",
    "            frst_wrd.append([i[0], i[1], i[2], i[3]])\n",
    "    elif len(word_s.split('+'))==2:\n",
    "        for i in word_and_pos(word_s):\n",
    "            frst_wrd.append([i[0], i[1], i[2], i[3]])\n",
    "    else:\n",
    "        for i in lemma_word(word_s):\n",
    "            frst_wrd.append([i[0], i[1], i[2], i[3]])\n",
    "    return(frst_wrd)"
   ]
  },
  {
   "cell_type": "code",
   "execution_count": 8,
   "id": "140fe65f",
   "metadata": {},
   "outputs": [],
   "source": [
    "#на вход получаем список из двух слов, по которым поиск\n",
    "def for_two_words(word_s):\n",
    "    two_wrds=[]\n",
    "    for o in for_one_word(word_s[0]):\n",
    "        if word_s[1][0]=='\"':\n",
    "            if o[2].split('=')[0] == word_s[1][1:-1]:\n",
    "                two_wrds.append(o)\n",
    "        elif word_s[1][0] in 'QWERTYUIOPASDFGHJKLZXCVBNM':\n",
    "            if len(o[2].split('=')) != 1:\n",
    "                if o[2].split('=')[1] == word_s[1]:\n",
    "                    two_wrds.append(o)\n",
    "        elif len(word_s[1].split('+'))==2:\n",
    "            if len(o[2].split('=')) != 1:\n",
    "                if o[2].split('=')[1] == word_s[1].split('+')[1] and o[2].split('=')[0] == word_s[1].split('+')[0]:\n",
    "                    two_wrds.append(o)\n",
    "        else:\n",
    "            doc=stz(word_s[1])\n",
    "            for sent in doc.sentences:\n",
    "                for word in sent.words:\n",
    "                    word_lem=word.lemma\n",
    "            if len(o[2].split('=')) != 1:\n",
    "                if o[2].split('=')[2] == word_lem:\n",
    "                    two_wrds.append(o)\n",
    "    return(two_wrds)"
   ]
  },
  {
   "cell_type": "code",
   "execution_count": 9,
   "id": "66b89bfd",
   "metadata": {},
   "outputs": [],
   "source": [
    "def for_three_words(word_s):\n",
    "    three_wrds=[]\n",
    "    for o in for_two_words(word_s[:2]):\n",
    "        if word_s[2][0]=='\"':\n",
    "            if o[3].split('=')[0] == word_s[2][1:-1]:\n",
    "                three_wrds.append(o)\n",
    "        elif word_s[2][0] in 'QWERTYUIOPASDFGHJKLZXCVBNM':\n",
    "            if len(o[3].split('=')) != 1:\n",
    "                if o[3].split('=')[1] == word_s[2]:\n",
    "                    three_wrds.append(o)\n",
    "        elif len(word_s[2].split('+'))==2:\n",
    "            if len(o[3].split('=')) != 1:\n",
    "                if o[3].split('=')[1] == word_s[2].split('+')[1] and o[3].split('=')[0] == word_s[2].split('+')[0]:\n",
    "                    three_wrds.append(o)\n",
    "        else:\n",
    "            doc=stz(word_s[2])\n",
    "            for sent in doc.sentences:\n",
    "                for word in sent.words:\n",
    "                    word_lem=word.lemma\n",
    "            if len(o[3].split('=')) != 1:\n",
    "                if o[3].split('=')[2] == word_lem:\n",
    "                    three_wrds.append(o)\n",
    "    return(three_wrds)"
   ]
  },
  {
   "cell_type": "code",
   "execution_count": 10,
   "id": "6e2e27d2",
   "metadata": {},
   "outputs": [],
   "source": [
    "def search(inp):\n",
    "    d=[]\n",
    "    if len(inp) == 1:\n",
    "        for o in for_one_word(inp[0]):\n",
    "            d.append(o)\n",
    "    elif len(inp) == 2:\n",
    "        for o in for_two_words(inp[:2]):\n",
    "            d.append(o)\n",
    "    elif len(inp) == 3:\n",
    "        for o in for_three_words(inp[:3]):\n",
    "            d.append(o)\n",
    "    return d"
   ]
  },
  {
   "cell_type": "code",
   "execution_count": 22,
   "id": "699ebe31",
   "metadata": {},
   "outputs": [
    {
     "name": "stdout",
     "output_type": "stream",
     "text": [
      "ADP NOUN VERB\n",
      "— Да, с открытиями происходят иногда удивительные вещи. [\"Пикник на обочине\", Аркадий и Борис Стругацкие. Ресурс: https://strugacki.ru/ ]\n",
      "Дырки на глобусе лягут на некую плавную кривую. [\"Пикник на обочине\", Аркадий и Борис Стругацкие. Ресурс: https://strugacki.ru/ ]\n",
      "На площади около фактории дымила полевая кухня, снятая с колес. [\"Парень из преисподней\", Аркадий и Борис Стругацкие. Ресурс: https://strugacki.ru/ ]\n",
      "На кухонном столике среди хлебных крошек красовался натюрморт из сковородки с засохшими остатками яичницы, недопитого стакана чая и обкусанной горбушки со следами оплавившегося масла. [\"За миллиард лет до конца света\", Аркадий и Борис Стругацкие. Ресурс: https://strugacki.ru/ ]\n",
      "От звездного блеска на равнине лежат неясные отсветы, а скалистый хребет кажется глубокой черной тенью на звездном небе. [\"Путь на Амальтею\", Аркадий и Борис Стругацкие. Ресурс: https://strugacki.ru/ ]\n",
      "Бывает, что низко над хребтом висит пятнистый серп Ганимеда, или серебряный диск Каллисто, или они оба, хотя это бывает довольно редко. [\"Путь на Амальтею\", Аркадий и Борис Стругацкие. Ресурс: https://strugacki.ru/ ]\n",
      "Отель был двухэтажный, желто-зеленый, над крыльцом красовалась траурная вывеска: \"У ПОГИБШЕГО АЛЬПИНИСТА\". [\"Дело об убийстве, или отель \"У погибшего альпиниста\"\", Аркадий и Борис Стругацкие. Ресурс: https://strugacki.ru/ ]\n",
      "С крыши свисали мутные гофрированные сосульки толщиной с руку. [\"Дело об убийстве, или отель \"У погибшего альпиниста\"\", Аркадий и Борис Стругацкие. Ресурс: https://strugacki.ru/ ]\n",
      "В крайнее правое окно первого этажа выглянуло чье-то бледное лицо, и тут парадная дверь отворилась, и на крыльце появился лысый коренастый человек в рыжем меховом жилете поверх ослепительной нейлоновой рубашки. [\"Дело об убийстве, или отель \"У погибшего альпиниста\"\", Аркадий и Борис Стругацкие. Ресурс: https://strugacki.ru/ ]\n",
      "— Да, у нас уже осень, — со вздохом сказал я, открывая чемодан. [\"Хищные вещи века\", Аркадий и Борис Стругацкие. Ресурс: https://strugacki.ru/ ]\n",
      "Он от души рассмеялся. [\"Хищные вещи века\", Аркадий и Борис Стругацкие. Ресурс: https://strugacki.ru/ ]\n",
      "Юрковский томно сказал:    — В стратоплане спрошу бутылочку ессентуков и выкушаю... [\"Стажеры\", Аркадий и Борис Стругацкие. Ресурс: https://strugacki.ru/ ]\n",
      "Быков-старший с подозрением спросил:    — Печенка? [\"Стажеры\", Аркадий и Борис Стругацкие. Ресурс: https://strugacki.ru/ ]\n",
      "Потом не к месту и не ко времени в лаборатории на вышке заверещал сигнал вызова. [\"Далекая Радуга\", Аркадий и Борис Стругацкие. Ресурс: https://strugacki.ru/ ]\n",
      "Вот на панель выбежал из пыльного палисадника еж, большой, ушастый. [\"Дни затмения\", Аркадий и Борис Стругацкие. Ресурс: https://strugacki.ru/ ]\n",
      "В комнате стоял желтоватый от задернутых штор сумрак, было жарко, душно и накурено. [\"Дни затмения\", Аркадий и Борис Стругацкие. Ресурс: https://strugacki.ru/ ]\n",
      "На столе дымилась последним окурком набитая до отказа пепельница, горой лежали справочники, свернутые в трубку чертежи и графики, папки с бумагами, картотечные ящики. [\"Дни затмения\", Аркадий и Борис Стругацкие. Ресурс: https://strugacki.ru/ ]\n",
      "Он тарахтел клавишами, вслух зачитывал избранные абзацы, время от времени затягивался окурком и что-нибудь поправлял в рукописи. [\"Дни затмения\", Аркадий и Борис Стругацкие. Ресурс: https://strugacki.ru/ ]\n",
      "Он достал из кармана собранные камешки и аккуратно разложил их возле себя, а потом выбрал самый маленький и тихонько бросил его вниз, в живое и молчаливое, в спящее, равнодушное, глотающее навсегда, и белая искра погасла, и ничего не произошло — не шевельнулись никакие веки и никакие глаза не приоткрылись, чтобы взглянуть на него. [\"Улитка на склоне\", Аркадий и Борис Стругацкие. Ресурс: https://strugacki.ru/ ]\n",
      "Если бросать по камешку каждые полторы минуты; и если правда то, что рассказывала одноногая повариха по прозвищу Казалунья и предполагала мадам Бардо, начальница группы Помощи местному населению; и если неправда то, о чем шептались шофер Тузик с Неизвестным из группы Инженерного проникновения; и если чего-нибудь стоит человеческая интуиция; и если исполняются хоть раз в жизни ожидания — тогда на седьмом камешке кусты позади с треском раздвинутся, и на полянку, на мятую траву, седую от росы, ступит директор, голый по пояс, в серых габардиновых брюках с лиловым кантом, шумно дышащий, лоснящийся, желто-розовый, мохнатый, и ни на что не глядя, ни на лес под собой, ни на небо над собой, пойдет сгибаться, погружая широкие ладони в траву, и разгибаться, поднимая ветер размахами широких ладоней, и каждый раз мощная складка на его животе будет накатывать сверху на брюки, а воздух, насыщенный углекислотой и никотином, будет со свистом и клокотанием вырываться из разинутого рта. [\"Улитка на склоне\", Аркадий и Борис Стругацкие. Ресурс: https://strugacki.ru/ ]\n",
      "Кусты позади с треском раздвинулись. [\"Улитка на склоне\", Аркадий и Борис Стругацкие. Ресурс: https://strugacki.ru/ ]\n",
      "То они принимались, на ночь глядя, разучивать под гитару новую лирическую песенку, и, поскольку у Портоса был могучий бас и не было практически никакого музыкального слуха, это неизменно приводило людей, зверей, птиц и роботов, застигнутых врасплох на ближайших гектарах, в необычайное возбуждение. [\"Экспедиция в преисподнюю\", Аркадий и Борис Стругацкие. Ресурс: https://strugacki.ru/ ]\n",
      "А однажды они тайком сконструировали безобразный механизм, который среди бела дня прошел по центральной улице, играя на черной дудочке, и все роботы-няни, роботы-дворники, роботы-садовники в поселке бросили свои дела, устремились за ним в степь и вернулись только через неделю. [\"Экспедиция в преисподнюю\", Аркадий и Борис Стругацкие. Ресурс: https://strugacki.ru/ ]\n",
      "Небо на севере полыхало: казалось, будто там, за далеким горизонтом, земля разверзлась и выбрасывает к самым звездам фонтаны разноцветного огня. [\"Второе нашествие марсиан\", Аркадий и Борис Стругацкие. Ресурс: https://strugacki.ru/ ]\n",
      "Я его спрашиваю, что за феномен наблюдается за горизонтом. [\"Второе нашествие марсиан\", Аркадий и Борис Стругацкие. Ресурс: https://strugacki.ru/ ]\n",
      "Я без труда представлял себе чувства, которые испытывала Майя Тойвовна Глумова, читая биографию своего сына в изложении П. Сороки и Э. Брауна. [\"Волны гасят ветер\", Аркадий и Борис Стругацкие. Ресурс: https://strugacki.ru/ ]\n",
      "Из-под крышек торчали обрывки газет, свешивалась картофельная шелуха. [\"Град  обреченный\", Аркадий и Борис Стругацкие. Ресурс: https://strugacki.ru/ ]\n",
      "На вид они казались неподъемно тяжелыми, но на самом деле вдвоем с Ваном ничего не стоило рывком вздернуть такой бак к к протянутым рукам Дональда и утвердить на краю откинутого борта. [\"Град  обреченный\", Аркадий и Борис Стругацкие. Ресурс: https://strugacki.ru/ ]\n",
      "Крупные камни я пускал под колесо, и каждый раз в багажнике лязгали и громыхали пустые канистры. [\"Понедельник начинается в субботу\", Аркадий и Борис Стругацкие. Ресурс: https://strugacki.ru/ ]\n",
      "Справа из леса вышли двое, ступили на обочину и остановились, глядя в мою сторону. [\"Понедельник начинается в субботу\", Аркадий и Борис Стругацкие. Ресурс: https://strugacki.ru/ ]\n",
      "По бомбардировщикам выпускали обойму за обоймой скорострельные пневматические молотки. [\"Сказка о тройке\", Аркадий и Борис Стругацкие. Ресурс: https://strugacki.ru/ ]\n",
      "От шеи под стол тянулась круглая веревка... [\"Страна багровых туч\", Аркадий и Борис Стругацкие. Ресурс: https://strugacki.ru/ ]\n",
      "Из темноты доносятся знакомые звуки: лошади переступают копытами, звякают уздечками, шумно вздыхают, отфыркиваются. [\"Без оружия\", Аркадий и Борис Стругацкие. Ресурс: https://strugacki.ru/ ]\n",
      "От ветра, поднятого винтами, по траве шли широкие волны, серебристые и тёмно-зелёные. [\"Благоустроенная планета\", Аркадий и Борис Стругацкие. Ресурс: https://strugacki.ru/ ]\n",
      "Маленькое белое солнце стояло высоко, от травы поднималась влажная жара. [\"Благоустроенная планета\", Аркадий и Борис Стругацкие. Ресурс: https://strugacki.ru/ ]\n",
      "Попова кто-то сказал \"Ох, ты\", и что-то с шумом повалилось в траву. [\"Благоустроенная планета\", Аркадий и Борис Стругацкие. Ресурс: https://strugacki.ru/ ]\n",
      "— Кажется, приехали наконец, — с облегчением сказал майор Соколов. [\"Четвертое царство (На грани возможного)\", Аркадий и Борис Стругацкие. Ресурс: https://strugacki.ru/ ]\n",
      "Олешко с трудом проглотил слюну, и сразу словно пробки вынули из ушей. [\"Четвертое царство (На грани возможного)\", Аркадий и Борис Стругацкие. Ресурс: https://strugacki.ru/ ]\n",
      "Один из летчиков побежал вперед раскрыть дверь и выкинуть лестницу. [\"Четвертое царство (На грани возможного)\", Аркадий и Борис Стругацкие. Ресурс: https://strugacki.ru/ ]\n",
      "Пока он рапортовал Крюкову о благополучии на вверенной ему, капитану, заставе, Олешко с любопытством огляделся. [\"Четвертое царство (На грани возможного)\", Аркадий и Борис Стругацкие. Ресурс: https://strugacki.ru/ ]\n",
      "Бетон полосы потрескался и местами выкрошился, из трещин выбивались веселые травинки. [\"Четвертое царство (На грани возможного)\", Аркадий и Борис Стругацкие. Ресурс: https://strugacki.ru/ ]\n",
      "На одном из холмов располагался домик со сложным антенным устройством на крыше. [\"Четвертое царство (На грани возможного)\", Аркадий и Борис Стругацкие. Ресурс: https://strugacki.ru/ ]\n",
      "На четвертом курсе у нее случился роман с одним молодым преподавателем, и она по ночам плакала в подушку, воображая себя разрушительницей чужой семьи, но преподаватель вскоре отступился и вернулся к своей жене, устав бороться с несгибаемыми Юлиными принципами. [\"Дни Кракена\", Аркадий и Борис Стругацкие. Ресурс: https://strugacki.ru/ ]\n",
      "Вообще это довольно странно, потому что мало кто из однокурсников помнил ее, да и те, кто помнил, путали ее фамилию. [\"Дни Кракена\", Аркадий и Борис Стругацкие. Ресурс: https://strugacki.ru/ ]\n",
      "Нам предстояло до темноты добраться к подножию сопки, заночевать там, а с рассветом начать восхождение. [\"Извне\", Аркадий и Борис Стругацкие. Ресурс: https://strugacki.ru/ ]\n",
      "Нам предстояло до темноты добраться к подножию сопки, заночевать там, а с рассветом начать восхождение. [\"Извне\", Аркадий и Борис Стругацкие. Ресурс: https://strugacki.ru/ ]\n",
      "На лагерь напали коровы. [\"Бессильные мира сего\", Аркадий и Борис Стругацкие. Ресурс: https://strugacki.ru/ ]\n",
      "Бугай оценил мою деликатность и тоже стал небрежно удаляться, по пути заигрывая с коровами. [\"Бессильные мира сего\", Аркадий и Борис Стругацкие. Ресурс: https://strugacki.ru/ ]\n",
      "Мораль: никогда не ори на начальника — ори на подчиненных и терпеливо ожидай, пока до начальника дойдет, в чем дело и как ему поступать надлежит...\"    \"18.08. [\"Бессильные мира сего\", Аркадий и Борис Стругацкие. Ресурс: https://strugacki.ru/ ]\n",
      "Стоило человеку забраться в стол к старшему брату — студенту (совершенно случайно, ничего дурного не имея в виду), как там оказывалась наводящая изумление японская электронная машинка, которая тут же незамедлительно выскакивала из рук и с треском падала на пол. [\"Повесть о дружбе и недружбе\", Аркадий и Борис Стругацкие. Ресурс: https://strugacki.ru/ ]\n",
      "Стоило человеку проесть с трудом обретенный рубль на мороженом (сливочный, шоколадный и фруктовый шарик в соответствующем сиропе), как буквально в двух шагах от кафе обнаруживался книгоноша, распродающий последние экземпляры \"Зарубежного детектива\". [\"Повесть о дружбе и недружбе\", Аркадий и Борис Стругацкие. Ресурс: https://strugacki.ru/ ]\n",
      "Стоило человеку проесть с трудом обретенный рубль на мороженом (сливочный, шоколадный и фруктовый шарик в соответствующем сиропе), как буквально в двух шагах от кафе обнаруживался книгоноша, распродающий последние экземпляры \"Зарубежного детектива\". [\"Повесть о дружбе и недружбе\", Аркадий и Борис Стругацкие. Ресурс: https://strugacki.ru/ ]\n",
      "Водитель едва успел подать машину вправо, как огромный мотоцикл с ревом пролетел мимо, залепив стекла ошметками снега, так что водитель успел разглядеть только тощую, согнутую в седле фигуру, развевающиеся черные волосы, торчащий, как доска, конец красного шарфа и еще одну фигуру — лыжника в ярком свитере, несущегося следом на туго натянутом блестящем тросе. [\"Дело об убийстве (Отель \"У погибшего альпиниста\")\", Аркадий и Борис Стругацкие. Ресурс: https://strugacki.ru/ ]\n",
      "Над крыльцом красовалась траурная вывеска \"У Погибшего Альпиниста\". [\"Дело об убийстве (Отель \"У погибшего альпиниста\")\", Аркадий и Борис Стругацкие. Ресурс: https://strugacki.ru/ ]\n",
      "С крыши свисали мутные гофрированные сосульки толщиной в руку. [\"Дело об убийстве (Отель \"У погибшего альпиниста\")\", Аркадий и Борис Стругацкие. Ресурс: https://strugacki.ru/ ]\n",
      "Вот на панель выбежал из пыльного палисадника еж, большой, ушастый. [\"День затмения\", Аркадий и Борис Стругацкие. Ресурс: https://strugacki.ru/ ]\n",
      "В комнате стоял желтоватый от задернутых штор сумрак, было жарко, душно и накурено. [\"День затмения\", Аркадий и Борис Стругацкие. Ресурс: https://strugacki.ru/ ]\n",
      "На столе дымилась последним окурком набитая до отказа пепельница, горой лежали справочники, свернутые в трубочку чертежи и графики, папки с бумагами, картотечные ящики. [\"День затмения\", Аркадий и Борис Стругацкие. Ресурс: https://strugacki.ru/ ]\n",
      "Он тарахтел клавишами, вслух зачитывал избранные абзацы, время от времени затягивался окурком и что-нибудь поправлял в рукописи. [\"День затмения\", Аркадий и Борис Стругацкие. Ресурс: https://strugacki.ru/ ]\n",
      "В комнате появляется молодая женщина в длинной ночной рубашке, бесшумно подходит к столу и ставит поднос: кофейник и чашка с дымящимся кофе. [\"Машина желаний\", Аркадий и Борис Стругацкие. Ресурс: https://strugacki.ru/ ]\n",
      "Кабинет идеально прибран: все полированные поверхности сияют, книги на полках выстроены аккуратными рядами, кресла для гостей, полосатый диван — красивы и уютны, пол чист и блестит паркетом. [\"Пять ложек эликсира\", Аркадий и Борис Стругацкие. Ресурс: https://strugacki.ru/ ]\n",
      "У подъезда стоит роскошный \"кадиллак\". [\"Сталкер\", Аркадий и Борис Стругацкие. Ресурс: https://strugacki.ru/ ]\n",
      "Впереди рядом с шофером сидит его ассистент, личность вполне бесцветная, доведенная своим начальником до состояния постоянной злобной угодливости. [\"Туча\", Аркадий и Борис Стругацкие. Ресурс: https://strugacki.ru/ ]\n",
      "С ума сойти. [\"Туча\", Аркадий и Борис Стругацкие. Ресурс: https://strugacki.ru/ ]\n",
      "За пеленой дождя по сторонам дороги уносятся назад:    шеренга каких-то зачехленных громадин вдоль шоссе и снующие среди них солдаты в плащ-накидках;    необозримое стадо пустых пассажирских автобусов;    походная радарная установка;    еще одна походная радарная установка, окруженная стадом пасущихся коров;    обширная асфальтовая площадка, несколько вертолетов на ней;    бензоколонка, очередь легковых машин с трейлерами, на крышах мокнут разнокалиберные чемоданы, и тут же остановился фермер с телегой и взирает на это с видом глубокой задумчивости. [\"Туча\", Аркадий и Борис Стругацкие. Ресурс: https://strugacki.ru/ ]\n",
      "Сразу за барельефом в сквере стоят два танка, и тут же под навесом за походным столом кормятся несколько военных вперемежку со штатскими. [\"Туча\", Аркадий и Борис Стругацкие. Ресурс: https://strugacki.ru/ ]\n",
      "Следуют рукопожатия, взаимные представления, деликатная борьба за право нести оба или хотя бы один чемодан. [\"Чародеи\", Аркадий и Борис Стругацкие. Ресурс: https://strugacki.ru/ ]\n",
      "Но Вахлаков почему-то решил иначе, и нельзя даже поговорить с ним по-человечески, потому что в кабинете торчат какие-то незнакомые с постными физиономиями. [\"Белый конус Алаида\", Аркадий и Борис Стругацкие. Ресурс: https://strugacki.ru/ ]\n",
      "— Конкретно о месте для пробы договоритесь в Байкове. [\"Белый конус Алаида\", Аркадий и Борис Стругацкие. Ресурс: https://strugacki.ru/ ]\n",
      "В дверь постучали, и раньше, чем я ответил, дверь отворилась. [\"В наше интересное время\", Аркадий и Борис Стругацкие. Ресурс: https://strugacki.ru/ ]\n",
      "На пороге стоял совсем незнакомый человек в очень странном костюме. [\"В наше интересное время\", Аркадий и Борис Стругацкие. Ресурс: https://strugacki.ru/ ]\n",
      "На нем была толстая куртка с множеством карманов, стеганая, словно ватник, а из-под куртки торчали ноги в черном балетном трико в обтяжку. [\"В наше интересное время\", Аркадий и Борис Стругацкие. Ресурс: https://strugacki.ru/ ]\n",
      "По сторонам уходили в темноту ажурные решетки металлической ограды. [\"Забытый эксперимент\", Аркадий и Борис Стругацкие. Ресурс: https://strugacki.ru/ ]\n",
      "Когда они вылезли, фонарь над шлагбаумом потух, и вдруг густо взревела сирена. [\"Забытый эксперимент\", Аркадий и Борис Стругацкие. Ресурс: https://strugacki.ru/ ]\n",
      "Через бурьян вела узкая тропинка. [\"Забытый эксперимент\", Аркадий и Борис Стругацкие. Ресурс: https://strugacki.ru/ ]\n",
      "Одно из окон осветилось, стукнула рама, кто-то сиплым голосом осведомился:     — Новокаин привез? [\"Забытый эксперимент\", Аркадий и Борис Стругацкие. Ресурс: https://strugacki.ru/ ]\n",
      "Возле коттеджа появился темный силуэт, и прежний голос позвал:     — Валентин! [\"Забытый эксперимент\", Аркадий и Борис Стругацкие. Ресурс: https://strugacki.ru/ ]\n",
      "На тропинке зашумел бурьян, меж стволов сосен замелькал огонек папиросы. [\"Забытый эксперимент\", Аркадий и Борис Стругацкие. Ресурс: https://strugacki.ru/ ]\n",
      "Над долиной висели седые полосы тумана. [\"Испытание \"СКИБР\"\", Аркадий и Борис Стругацкие. Ресурс: https://strugacki.ru/ ]\n",
      "Совет воспретил такие проекты до тех врем\"н, когда теоретическая синоптика будет в состоянии предсказывать все долговременные последствия значительных изменений макроклимата. [\"Моби Дик\", Аркадий и Борис Стругацкие. Ресурс: https://strugacki.ru/ ]\n",
      "Поэтому он и не пытался как-то обжить и украсить е\", только в кабинете над столом повесил полутораметровый клык нарвала, убитого в рукопашной во время подводной прогулки лет пять назад, да зав\"л самодельную полочку со старыми книгами, взятыми из походной библиотеки \"Таймыра\". [\"Моби Дик\", Аркадий и Борис Стругацкие. Ресурс: https://strugacki.ru/ ]\n",
      "От воды валил пар. [\"Ночь на Марсе\", Аркадий и Борис Стругацкие. Ресурс: https://strugacki.ru/ ]\n",
      "Клубы пара из каверны поднимались вертикально в черно-фиолетовое небо, усыпанное крупными звездами. [\"Ночь на Марсе\", Аркадий и Борис Стругацкие. Ресурс: https://strugacki.ru/ ]\n",
      "Низко на западе висело солнце — маленький яркий диск над дюнами. [\"Ночь на Марсе\", Аркадий и Борис Стругацкие. Ресурс: https://strugacki.ru/ ]\n",
      "Колени и плечи у меня окоченели совершенно, и я беспокоился, что Машка меня не дождется и полезет в воду искать и спасать. [\"О странствующих и путешествующих\", Аркадий и Борис Стругацкие. Ресурс: https://strugacki.ru/ ]\n",
      "День был жаркий и ясный, над водой висела голубая парная дымка, а небо было пустым и белым, только из-за леса поднимались, как башни, неподвижные сизые груды облаков. [\"О странствующих и путешествующих\", Аркадий и Борис Стругацкие. Ресурс: https://strugacki.ru/ ]\n",
      "День был жаркий и ясный, над водой висела голубая парная дымка, а небо было пустым и белым, только из-за леса поднимались, как башни, неподвижные сизые груды облаков. [\"О странствующих и путешествующих\", Аркадий и Борис Стругацкие. Ресурс: https://strugacki.ru/ ]\n",
      "До домика было километров восемь. [\"Первые люди на первом плоту\", Аркадий и Борис Стругацкие. Ресурс: https://strugacki.ru/ ]\n",
      "Следов было немного, но Марков знал, что Пал Палыч не оставит его милостями и все еще будет: и следы, и тетерева, с грохотом вылетающие из-под снега, и выстрелы, и то до боли острое, азартное ощущение, когда точно знаешь, что попал, и огромная птица тяжело ухает в сугроб, и кажется, что земля вздрагивает от удара. [\"Первые люди на первом плоту\", Аркадий и Борис Стругацкие. Ресурс: https://strugacki.ru/ ]\n",
      "Одно из окон в доме разбито, будка Трезора перевернута, по всему двору разбросаны рыжие перья, а истоптанный снег забрызган красными пятнами. [\"Первые люди на первом плоту\", Аркадий и Борис Стругацкие. Ресурс: https://strugacki.ru/ ]\n",
      "— он перевернулся на другой бок и с отвращением выплюнул окурок. [\"Песчаная горячка\", Аркадий и Борис Стругацкие. Ресурс: https://strugacki.ru/ ]\n",
      "— Когда от сигарет болит язык, лучше всего выпить томатного сока. [\"Песчаная горячка\", Аркадий и Борис Стругацкие. Ресурс: https://strugacki.ru/ ]\n",
      "На полу валялись спальные мешки, множество окурков, винтовка, стреляные гильзы и пара сапог. [\"Песчаная горячка\", Аркадий и Борис Стругацкие. Ресурс: https://strugacki.ru/ ]\n",
      "Цементный пол загудел под его толстыми каучуковыми подошвами, и Урм на мгновение остановился, чтобы послушать, и даже нагнулся. [\"Спонтанный рефлекс\", Аркадий и Борис Стругацкие. Ресурс: https://strugacki.ru/ ]\n",
      "Через полчаса стало очень шумно, воздух наполнился табачным дымом и кислым запахом маринадов. [\"Человек из Пасифиды\", Аркадий и Борис Стругацкие. Ресурс: https://strugacki.ru/ ]\n",
      "В самый разгар веселья в кабинет с визгом вбежала официантка, ее преследовал рослый румяный янки в пилотке набекрень. [\"Человек из Пасифиды\", Аркадий и Борис Стругацкие. Ресурс: https://strugacki.ru/ ]\n",
      "Джерри как подкошенный обрушился прямо на блюда с закусками, а барон Като с наслаждением ударил его по глазам эфесом кортика. [\"Человек из Пасифиды\", Аркадий и Борис Стругацкие. Ресурс: https://strugacki.ru/ ]\n",
      "До вахты оставалось два часа. [\"Чрезвычайное происшествие\", Аркадий и Борис Стругацкие. Ресурс: https://strugacki.ru/ ]\n",
      "Сейчас на вахте стоял Туммер, носатый и длинный как палка. [\"Чрезвычайное происшествие\", Аркадий и Борис Стругацкие. Ресурс: https://strugacki.ru/ ]\n",
      "Под валуном темнела глубокая вода, и, если присмотреться, в шевелящихся водорослях стоит щука с черной спиной, неподвижная и прямая как палка. [\"Чрезвычайное происшествие\", Аркадий и Борис Стругацкие. Ресурс: https://strugacki.ru/ ]\n",
      "И вдруг около уха загудел шмель. [\"Чрезвычайное происшествие\", Аркадий и Борис Стругацкие. Ресурс: https://strugacki.ru/ ]\n",
      "Он стянул с головы берет, пригладил волосы и сказал:     — Ну вот, Саня, все решено. [\"Частные предположения\", Аркадий и Борис Стругацкие. Ресурс: https://strugacki.ru/ ]\n",
      "Он отлично понимал, что имеет в виду инспектор, но не считал инспектора в праве касаться этой стороны дела. [\"Шесть спичек\", Аркадий и Борис Стругацкие. Ресурс: https://strugacki.ru/ ]\n"
     ]
    }
   ],
   "source": [
    "inp=input()\n",
    "inp=inp.split()\n",
    "for o in search(inp):\n",
    "    print( o[0], f'[\"{o[1]}\", Аркадий и Борис Стругацкие. Ресурс: https://strugacki.ru/ ]')    "
   ]
  },
  {
   "cell_type": "code",
   "execution_count": null,
   "id": "dcf81f55",
   "metadata": {},
   "outputs": [],
   "source": []
  }
 ],
 "metadata": {
  "kernelspec": {
   "display_name": "Python 3 (ipykernel)",
   "language": "python",
   "name": "python3"
  },
  "language_info": {
   "codemirror_mode": {
    "name": "ipython",
    "version": 3
   },
   "file_extension": ".py",
   "mimetype": "text/x-python",
   "name": "python",
   "nbconvert_exporter": "python",
   "pygments_lexer": "ipython3",
   "version": "3.10.6"
  }
 },
 "nbformat": 4,
 "nbformat_minor": 5
}
